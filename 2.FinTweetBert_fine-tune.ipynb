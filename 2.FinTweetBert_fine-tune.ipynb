{
 "cells": [
  {
   "cell_type": "code",
   "execution_count": null,
   "metadata": {},
   "outputs": [
    {
     "name": "stdout",
     "output_type": "stream",
     "text": [
      "\n",
      "\u001b[1m[\u001b[0m\u001b[34;49mnotice\u001b[0m\u001b[1;39;49m]\u001b[0m\u001b[39;49m A new release of pip is available: \u001b[0m\u001b[31;49m25.0.1\u001b[0m\u001b[39;49m -> \u001b[0m\u001b[32;49m25.1\u001b[0m\n",
      "\u001b[1m[\u001b[0m\u001b[34;49mnotice\u001b[0m\u001b[1;39;49m]\u001b[0m\u001b[39;49m To update, run: \u001b[0m\u001b[32;49mpip install --upgrade pip\u001b[0m\n"
     ]
    }
   ],
   "source": [
    "# Install libraries\n",
    "!pip install transformers torch --quiet"
   ]
  },
  {
   "cell_type": "code",
   "execution_count": 3,
   "metadata": {},
   "outputs": [
    {
     "name": "stdout",
     "output_type": "stream",
     "text": [
      "Requirement already satisfied: pip in /Library/Frameworks/Python.framework/Versions/3.13/lib/python3.13/site-packages (25.0.1)\n",
      "Collecting pip\n",
      "  Downloading pip-25.1-py3-none-any.whl.metadata (3.6 kB)\n",
      "Downloading pip-25.1-py3-none-any.whl (1.8 MB)\n",
      "\u001b[2K   \u001b[90m━━━━━━━━━━━━━━━━━━━━━━━━━━━━━━━━━━━━━━━━\u001b[0m \u001b[32m1.8/1.8 MB\u001b[0m \u001b[31m11.0 MB/s\u001b[0m eta \u001b[36m0:00:00\u001b[0ma \u001b[36m0:00:01\u001b[0m\n",
      "\u001b[?25hInstalling collected packages: pip\n",
      "  Attempting uninstall: pip\n",
      "    Found existing installation: pip 25.0.1\n",
      "    Uninstalling pip-25.0.1:\n",
      "      Successfully uninstalled pip-25.0.1\n",
      "Successfully installed pip-25.1\n"
     ]
    }
   ],
   "source": [
    "!pip install --upgrade pip"
   ]
  },
  {
   "cell_type": "code",
   "execution_count": 6,
   "metadata": {},
   "outputs": [],
   "source": [
    "# Import PyTorch and Transformers components\n",
    "import torch\n",
    "import torch.nn as nn\n",
    "from torch.utils.data import Dataset, DataLoader\n",
    "from transformers import AutoTokenizer, AutoModelForSequenceClassification\n",
    "from torch.optim import AdamW\n",
    "\n",
    "# For data handling and metrics\n",
    "import pandas as pd\n",
    "import numpy as np\n",
    "from sklearn.model_selection import train_test_split\n",
    "from sklearn.metrics import accuracy_score, f1_score"
   ]
  },
  {
   "cell_type": "code",
   "execution_count": 7,
   "metadata": {},
   "outputs": [],
   "source": [
    "# 2 Load and prepare the dataset\n",
    "# Load your dataset\n",
    "df = pd.read_csv(\"filtered_dataset.csv\")\n",
    "\n",
    "# Extract tweets and labels\n",
    "tweets = df[\"tweet\"].tolist()\n",
    "labels = df[\"sentiment\"].tolist()  # where 0 = bullish, 1 = neutral, 2 = bearish"
   ]
  },
  {
   "cell_type": "code",
   "execution_count": 8,
   "metadata": {},
   "outputs": [
    {
     "name": "stderr",
     "output_type": "stream",
     "text": [
      "Some weights of BertForSequenceClassification were not initialized from the model checkpoint at StephanAkkerman/FinTwitBERT and are newly initialized: ['bert.pooler.dense.bias', 'bert.pooler.dense.weight', 'classifier.bias', 'classifier.weight']\n",
      "You should probably TRAIN this model on a down-stream task to be able to use it for predictions and inference.\n"
     ]
    }
   ],
   "source": [
    "# 3. Load Pre-trained FinTwitBERT Model and Tokenizer\n",
    "\n",
    "# Load tokenizer and model (3 labels for sentiment classification)\n",
    "tokenizer = AutoTokenizer.from_pretrained(\"StephanAkkerman/FinTwitBERT\")\n",
    "model = AutoModelForSequenceClassification.from_pretrained(\"StephanAkkerman/FinTwitBERT\", num_labels=3)"
   ]
  },
  {
   "cell_type": "code",
   "execution_count": 9,
   "metadata": {},
   "outputs": [],
   "source": [
    "#4 Tokenize the tweets\n",
    "\n",
    "# Tokenize all tweets\n",
    "encodings = tokenizer(\n",
    "    tweets,\n",
    "    truncation=True,\n",
    "    padding=True,\n",
    "    max_length=64,\n",
    "    return_tensors=\"pt\"\n",
    ")\n",
    "\n",
    "# Convert labels to tensor\n",
    "labels = torch.tensor(labels)"
   ]
  },
  {
   "cell_type": "code",
   "execution_count": 10,
   "metadata": {},
   "outputs": [],
   "source": [
    "# 5. Split the dataset into training, test and validation sets\n",
    "\n",
    "# First split: 70% train, 30% temp (val+test)\n",
    "train_idx, temp_idx = train_test_split(\n",
    "    range(len(labels)),\n",
    "    test_size=0.3,\n",
    "    stratify=labels,\n",
    "    random_state=42\n",
    ")\n",
    "\n",
    "# Second split: 15% val, 15% test\n",
    "val_idx, test_idx = train_test_split(\n",
    "    temp_idx,\n",
    "    test_size=0.5,\n",
    "    stratify=labels[temp_idx],\n",
    "    random_state=42\n",
    ")\n"
   ]
  },
  {
   "cell_type": "code",
   "execution_count": 11,
   "metadata": {},
   "outputs": [],
   "source": [
    "# 6. Define a custom PyTorch Dataset to wrap tokenized tweets and labels\n",
    "from torch.utils.data import Dataset\n",
    "# Create a custom dataset class for tweet sentiment classification\n",
    "class TweetDataset(Dataset): \n",
    "    # Constructor\n",
    "    def __init__(self, encodings, labels, indices):\n",
    "        # Store only the subset of data defined by the given indices (train/val/test)\n",
    "        self.encodings = {k: v[indices] for k, v in encodings.items()}\n",
    "        self.labels = labels[indices]\n",
    "    def __len__(self):\n",
    "        # Return the number of samples in the dataset\n",
    "        return len(self.labels)\n",
    "    def __getitem__(self, idx):\n",
    "        # Return one sample as a dictionary with input IDs, attention mask, and label\n",
    "        return {\n",
    "            'input_ids': self.encodings['input_ids'][idx],\n",
    "            'attention_mask': self.encodings['attention_mask'][idx],\n",
    "            'labels': self.labels[idx]\n",
    "        }\n",
    "# Create dataset objects for training, validation, and testing\n",
    "train_dataset = TweetDataset(encodings, labels, train_idx)\n",
    "val_dataset = TweetDataset(encodings, labels, val_idx)\n",
    "test_dataset = TweetDataset(encodings, labels, test_idx)"
   ]
  },
  {
   "cell_type": "code",
   "execution_count": 12,
   "metadata": {},
   "outputs": [],
   "source": [
    "# 7. Create DataLoaders for training, validation, and testing\n",
    "\n",
    "# Wrap datasets in DataLoader for batching\n",
    "train_loader = DataLoader(train_dataset, batch_size=16, shuffle=True)\n",
    "val_loader = DataLoader(val_dataset, batch_size=32)\n",
    "test_loader = DataLoader(test_dataset, batch_size=32)"
   ]
  },
  {
   "cell_type": "code",
   "execution_count": null,
   "metadata": {},
   "outputs": [],
   "source": [
    "\n",
    "# Set optimizer (AdamW is standard for Transformers)\n",
    "optimizer = AdamW(model.parameters(), lr=2e-5)\n",
    "\n",
    "# Move model to GPU if available\n",
    "device = torch.device(\"cuda\" if torch.cuda.is_available() else \"cpu\")\n",
    "model.to(device)"
   ]
  },
  {
   "cell_type": "code",
   "execution_count": 17,
   "metadata": {},
   "outputs": [
    {
     "data": {
      "text/plain": [
       "BertForSequenceClassification(\n",
       "  (bert): BertModel(\n",
       "    (embeddings): BertEmbeddings(\n",
       "      (word_embeddings): Embedding(30875, 768, padding_idx=0)\n",
       "      (position_embeddings): Embedding(512, 768)\n",
       "      (token_type_embeddings): Embedding(2, 768)\n",
       "      (LayerNorm): LayerNorm((768,), eps=1e-12, elementwise_affine=True)\n",
       "      (dropout): Dropout(p=0.1, inplace=False)\n",
       "    )\n",
       "    (encoder): BertEncoder(\n",
       "      (layer): ModuleList(\n",
       "        (0-11): 12 x BertLayer(\n",
       "          (attention): BertAttention(\n",
       "            (self): BertSdpaSelfAttention(\n",
       "              (query): Linear(in_features=768, out_features=768, bias=True)\n",
       "              (key): Linear(in_features=768, out_features=768, bias=True)\n",
       "              (value): Linear(in_features=768, out_features=768, bias=True)\n",
       "              (dropout): Dropout(p=0.1, inplace=False)\n",
       "            )\n",
       "            (output): BertSelfOutput(\n",
       "              (dense): Linear(in_features=768, out_features=768, bias=True)\n",
       "              (LayerNorm): LayerNorm((768,), eps=1e-12, elementwise_affine=True)\n",
       "              (dropout): Dropout(p=0.1, inplace=False)\n",
       "            )\n",
       "          )\n",
       "          (intermediate): BertIntermediate(\n",
       "            (dense): Linear(in_features=768, out_features=3072, bias=True)\n",
       "            (intermediate_act_fn): GELUActivation()\n",
       "          )\n",
       "          (output): BertOutput(\n",
       "            (dense): Linear(in_features=3072, out_features=768, bias=True)\n",
       "            (LayerNorm): LayerNorm((768,), eps=1e-12, elementwise_affine=True)\n",
       "            (dropout): Dropout(p=0.1, inplace=False)\n",
       "          )\n",
       "        )\n",
       "      )\n",
       "    )\n",
       "    (pooler): BertPooler(\n",
       "      (dense): Linear(in_features=768, out_features=768, bias=True)\n",
       "      (activation): Tanh()\n",
       "    )\n",
       "  )\n",
       "  (dropout): Dropout(p=0.1, inplace=False)\n",
       "  (classifier): Linear(in_features=768, out_features=3, bias=True)\n",
       ")"
      ]
     },
     "execution_count": 17,
     "metadata": {},
     "output_type": "execute_result"
    }
   ],
   "source": [
    "# Set device: use GPU if available, else CPU\n",
    "device = torch.device(\"cuda\" if torch.cuda.is_available() else \"cpu\")\n",
    "\n",
    "# Move the model to the chosen device\n",
    "model.to(device)"
   ]
  },
  {
   "cell_type": "code",
   "execution_count": 14,
   "metadata": {},
   "outputs": [],
   "source": [
    "# 9. Train the model\n",
    "def train_model(model, train_loader, val_loader, optimizer, device, epochs=3):\n",
    "    for epoch in range(epochs):\n",
    "        model.train()\n",
    "        total_loss = 0\n",
    "        for batch in train_loader:\n",
    "            input_ids = batch['input_ids'].to(device)\n",
    "            attention_mask = batch['attention_mask'].to(device)\n",
    "            labels = batch['labels'].to(device)\n",
    "\n",
    "            outputs = model(input_ids, attention_mask=attention_mask, labels=labels)\n",
    "            loss = outputs.loss\n",
    "            total_loss += loss.item()\n",
    "\n",
    "            loss.backward()\n",
    "            optimizer.step()\n",
    "            optimizer.zero_grad()\n",
    "\n",
    "        avg_train_loss = total_loss / len(train_loader)\n",
    "        print(f\"Epoch {epoch+1}/{epochs} - Train Loss: {avg_train_loss:.4f}\")\n",
    "\n",
    "        # Validation after each epoch\n",
    "        model.eval()\n",
    "        all_preds, all_labels = [], []\n",
    "        with torch.no_grad():\n",
    "            for batch in val_loader:\n",
    "                input_ids = batch['input_ids'].to(device)\n",
    "                attention_mask = batch['attention_mask'].to(device)\n",
    "                labels = batch['labels'].to(device)\n",
    "\n",
    "                outputs = model(input_ids, attention_mask=attention_mask)\n",
    "                preds = torch.argmax(outputs.logits, dim=1)\n",
    "\n",
    "                all_preds.extend(preds.cpu().numpy())\n",
    "                all_labels.extend(labels.cpu().numpy())\n",
    "\n",
    "        acc = accuracy_score(all_labels, all_preds)\n",
    "        f1 = f1_score(all_labels, all_preds, average='weighted')\n",
    "        print(f\"Validation Accuracy: {acc:.4f}, F1 Score: {f1:.4f}\")\n",
    "\n"
   ]
  },
  {
   "cell_type": "code",
   "execution_count": 20,
   "metadata": {},
   "outputs": [
    {
     "name": "stdout",
     "output_type": "stream",
     "text": [
      "Epoch 1/3 - Train Loss: 0.0371\n",
      "Validation Accuracy: 0.9416, F1 Score: 0.9435\n",
      "Epoch 2/3 - Train Loss: 0.0280\n",
      "Validation Accuracy: 0.9483, F1 Score: 0.9479\n",
      "Epoch 3/3 - Train Loss: 0.0216\n",
      "Validation Accuracy: 0.9511, F1 Score: 0.9510\n"
     ]
    }
   ],
   "source": [
    "#10. Run the training\n",
    "# 9b. Define optimizer\n",
    "optimizer = torch.optim.AdamW(model.parameters(), lr=2e-5, weight_decay=0.01)\n",
    "train_model(model, train_loader, val_loader, optimizer, device)"
   ]
  },
  {
   "cell_type": "code",
   "execution_count": 21,
   "metadata": {},
   "outputs": [],
   "source": [
    "# 11. Evaluate the model on the test set\n",
    "def evaluate(model, test_loader, device):\n",
    "    model.eval()\n",
    "    all_preds, all_labels = [], []\n",
    "    with torch.no_grad():\n",
    "        for batch in test_loader:\n",
    "            input_ids = batch['input_ids'].to(device)\n",
    "            attention_mask = batch['attention_mask'].to(device)\n",
    "            labels = batch['labels'].to(device)\n",
    "\n",
    "            outputs = model(input_ids, attention_mask=attention_mask)\n",
    "            preds = torch.argmax(outputs.logits, dim=1)\n",
    "\n",
    "            all_preds.extend(preds.cpu().numpy())\n",
    "            all_labels.extend(labels.cpu().numpy())\n",
    "\n",
    "    acc = accuracy_score(all_labels, all_preds)\n",
    "    f1 = f1_score(all_labels, all_preds, average='weighted')\n",
    "    print(f\"Test Accuracy: {acc:.4f}, F1 Score: {f1:.4f}\")\n"
   ]
  },
  {
   "cell_type": "code",
   "execution_count": 24,
   "metadata": {},
   "outputs": [],
   "source": [
    "# Load the filtered dataset containing tweets and sentiment labels\n",
    "actual_df = pd.read_csv(\"filtered_dataset.csv\")"
   ]
  },
  {
   "cell_type": "code",
   "execution_count": 32,
   "metadata": {},
   "outputs": [
    {
     "name": "stdout",
     "output_type": "stream",
     "text": [
      "Predictions saved to 'fintwitbert_test_predictions.csv'\n"
     ]
    }
   ],
   "source": [
    "# Section 12: Run inference on the test set and save predictions\n",
    "\n",
    "from torch.utils.data import DataLoader\n",
    "\n",
    "# Set model to evaluation mode\n",
    "model.eval()\n",
    "\n",
    "# Store predictions\n",
    "all_preds = []\n",
    "\n",
    "# Disable gradient computation for inference\n",
    "with torch.no_grad():\n",
    "    for batch in DataLoader(test_dataset, batch_size=32):\n",
    "        input_ids = batch['input_ids'].to(device)\n",
    "        attention_mask = batch['attention_mask'].to(device)\n",
    "\n",
    "        outputs = model(input_ids=input_ids, attention_mask=attention_mask)\n",
    "        logits = outputs.logits\n",
    "        preds = torch.argmax(logits, dim=1)\n",
    "        all_preds.extend(preds.cpu().numpy())\n",
    "\n",
    "# Create a smaller DataFrame for just the test set (same indices used during split)\n",
    "test_df = actual_df.iloc[test_idx].copy()\n",
    "\n",
    "# Add predictions as a new column\n",
    "test_df[\"FinTwitBERT_prediction\"] = all_preds\n",
    "\n",
    "# Save to CSV for external evaluation or comparison\n",
    "test_df.to_csv(\"fintwitbert_test_predictions.csv\", index=False)\n",
    "\n",
    "print(\"Predictions saved to 'fintwitbert_test_predictions.csv'\")\n",
    "\n"
   ]
  },
  {
   "cell_type": "code",
   "execution_count": null,
   "metadata": {},
   "outputs": [
    {
     "name": "stdout",
     "output_type": "stream",
     "text": [
      "🔹 FinTwitBERT Performance:\n",
      "              precision    recall  f1-score   support\n",
      "\n",
      "           0       0.81      0.78      0.80       459\n",
      "           1       0.94      0.94      0.94      1618\n",
      "           2       0.98      0.99      0.98      2708\n",
      "\n",
      "    accuracy                           0.95      4785\n",
      "   macro avg       0.91      0.90      0.91      4785\n",
      "weighted avg       0.95      0.95      0.95      4785\n",
      "\n",
      "🔹 Baseline Model Performance:\n",
      "              precision    recall  f1-score   support\n",
      "\n",
      "           0       0.00      0.00      0.00       459\n",
      "           1       0.34      1.00      0.51      1618\n",
      "           2       0.00      0.00      0.00      2708\n",
      "\n",
      "    accuracy                           0.34      4785\n",
      "   macro avg       0.11      0.33      0.17      4785\n",
      "weighted avg       0.11      0.34      0.17      4785\n",
      "\n"
     ]
    },
    {
     "name": "stderr",
     "output_type": "stream",
     "text": [
      "/Library/Frameworks/Python.framework/Versions/3.13/lib/python3.13/site-packages/sklearn/metrics/_classification.py:1565: UndefinedMetricWarning: Precision is ill-defined and being set to 0.0 in labels with no predicted samples. Use `zero_division` parameter to control this behavior.\n",
      "  _warn_prf(average, modifier, f\"{metric.capitalize()} is\", len(result))\n",
      "/Library/Frameworks/Python.framework/Versions/3.13/lib/python3.13/site-packages/sklearn/metrics/_classification.py:1565: UndefinedMetricWarning: Precision is ill-defined and being set to 0.0 in labels with no predicted samples. Use `zero_division` parameter to control this behavior.\n",
      "  _warn_prf(average, modifier, f\"{metric.capitalize()} is\", len(result))\n",
      "/Library/Frameworks/Python.framework/Versions/3.13/lib/python3.13/site-packages/sklearn/metrics/_classification.py:1565: UndefinedMetricWarning: Precision is ill-defined and being set to 0.0 in labels with no predicted samples. Use `zero_division` parameter to control this behavior.\n",
      "  _warn_prf(average, modifier, f\"{metric.capitalize()} is\", len(result))\n"
     ]
    }
   ],
   "source": [
    "# 13.Compare FinTwitBERT vs. baseline   \n",
    "import pandas as pd\n",
    "from sklearn.metrics import classification_report\n",
    "\n",
    "# Load the two files\n",
    "baseline_df = pd.read_csv(\"predicted_tweet_Bert.csv\")  # contains predicted_label\n",
    "fintwitbert_df = pd.read_csv(\"fintwitbert_test_predictions.csv\")  # contains sentiment (true) and FinTwitBERT_prediction\n",
    "\n",
    "# Merge on tweet\n",
    "merged_df = pd.merge(fintwitbert_df, baseline_df, on=\"tweet\")\n",
    "\n",
    "# Map predicted text labels to numeric for baseline\n",
    "def map_pred(label):\n",
    "    label = label.lower()\n",
    "    if label == \"bullish\":\n",
    "        return 0\n",
    "    elif label == \"neutral\":\n",
    "        return 1\n",
    "    elif label == \"bearish\":\n",
    "        return 2\n",
    "    return -1  # fallback\n",
    "\n",
    "merged_df[\"baseline_prediction\"] = merged_df[\"predicted_label\"].apply(map_pred)\n",
    "\n",
    "# Compare both models\n",
    "print(\"FinTwitBERT Performance:\")\n",
    "print(classification_report(merged_df[\"sentiment\"], merged_df[\"FinTwitBERT_prediction\"]))\n",
    "\n",
    "print(\"Baseline Model Performance:\")\n",
    "print(classification_report(merged_df[\"sentiment\"], merged_df[\"baseline_prediction\"]))\n",
    "\n"
   ]
  },
  {
   "cell_type": "code",
   "execution_count": 37,
   "metadata": {},
   "outputs": [
    {
     "name": "stdout",
     "output_type": "stream",
     "text": [
      "Index(['tweet', 'predicted_label', 'confidence_score'], dtype='object')\n"
     ]
    }
   ],
   "source": [
    "print(baseline_df.columns)"
   ]
  },
  {
   "cell_type": "code",
   "execution_count": 40,
   "metadata": {},
   "outputs": [
    {
     "name": "stderr",
     "output_type": "stream",
     "text": [
      "huggingface/tokenizers: The current process just got forked, after parallelism has already been used. Disabling parallelism to avoid deadlocks...\n",
      "To disable this warning, you can either:\n",
      "\t- Avoid using `tokenizers` before the fork if possible\n",
      "\t- Explicitly set the environment variable TOKENIZERS_PARALLELISM=(true | false)\n",
      "36515.02s - pydevd: Sending message related to process being replaced timed-out after 5 seconds\n"
     ]
    },
    {
     "name": "stdout",
     "output_type": "stream",
     "text": [
      "Collecting matplotlib\n",
      "  Using cached matplotlib-3.10.1-cp313-cp313-macosx_11_0_arm64.whl.metadata (11 kB)\n",
      "Collecting contourpy>=1.0.1 (from matplotlib)\n",
      "  Using cached contourpy-1.3.2-cp313-cp313-macosx_11_0_arm64.whl.metadata (5.5 kB)\n",
      "Collecting cycler>=0.10 (from matplotlib)\n",
      "  Using cached cycler-0.12.1-py3-none-any.whl.metadata (3.8 kB)\n",
      "Collecting fonttools>=4.22.0 (from matplotlib)\n",
      "  Using cached fonttools-4.57.0-cp313-cp313-macosx_10_13_universal2.whl.metadata (102 kB)\n",
      "Collecting kiwisolver>=1.3.1 (from matplotlib)\n",
      "  Using cached kiwisolver-1.4.8-cp313-cp313-macosx_11_0_arm64.whl.metadata (6.2 kB)\n",
      "Requirement already satisfied: numpy>=1.23 in /Library/Frameworks/Python.framework/Versions/3.13/lib/python3.13/site-packages (from matplotlib) (2.2.5)\n",
      "Requirement already satisfied: packaging>=20.0 in /Library/Frameworks/Python.framework/Versions/3.13/lib/python3.13/site-packages (from matplotlib) (25.0)\n",
      "Collecting pillow>=8 (from matplotlib)\n",
      "  Using cached pillow-11.2.1-cp313-cp313-macosx_11_0_arm64.whl.metadata (8.9 kB)\n",
      "Collecting pyparsing>=2.3.1 (from matplotlib)\n",
      "  Using cached pyparsing-3.2.3-py3-none-any.whl.metadata (5.0 kB)\n",
      "Requirement already satisfied: python-dateutil>=2.7 in /Users/elenym.teklehaimanot/Library/Python/3.13/lib/python/site-packages (from matplotlib) (2.9.0.post0)\n",
      "Requirement already satisfied: six>=1.5 in /Users/elenym.teklehaimanot/Library/Python/3.13/lib/python/site-packages (from python-dateutil>=2.7->matplotlib) (1.17.0)\n",
      "Using cached matplotlib-3.10.1-cp313-cp313-macosx_11_0_arm64.whl (8.0 MB)\n",
      "Using cached contourpy-1.3.2-cp313-cp313-macosx_11_0_arm64.whl (255 kB)\n",
      "Using cached cycler-0.12.1-py3-none-any.whl (8.3 kB)\n",
      "Using cached fonttools-4.57.0-cp313-cp313-macosx_10_13_universal2.whl (2.7 MB)\n",
      "Using cached kiwisolver-1.4.8-cp313-cp313-macosx_11_0_arm64.whl (65 kB)\n",
      "Using cached pillow-11.2.1-cp313-cp313-macosx_11_0_arm64.whl (3.0 MB)\n",
      "Using cached pyparsing-3.2.3-py3-none-any.whl (111 kB)\n",
      "Installing collected packages: pyparsing, pillow, kiwisolver, fonttools, cycler, contourpy, matplotlib\n",
      "\u001b[2K   \u001b[90m━━━━━━━━━━━━━━━━━━━━━━━━━━━━━━━━━━━━━━━━\u001b[0m \u001b[32m7/7\u001b[0m [matplotlib]7\u001b[0m [matplotlib]\n",
      "\u001b[1A\u001b[2KSuccessfully installed contourpy-1.3.2 cycler-0.12.1 fonttools-4.57.0 kiwisolver-1.4.8 matplotlib-3.10.1 pillow-11.2.1 pyparsing-3.2.3\n"
     ]
    }
   ],
   "source": [
    "!pip install matplotlib"
   ]
  },
  {
   "cell_type": "code",
   "execution_count": 43,
   "metadata": {},
   "outputs": [
    {
     "name": "stdout",
     "output_type": "stream",
     "text": [
      "Baseline Model Accuracy: 58.32%\n",
      "FinTwitBERT (Fine-tuned) Accuracy: 95.15%\n"
     ]
    },
    {
     "data": {
      "image/png": "[encoded data removed]",
      "text/plain": [
       "<Figure size 640x480 with 2 Axes>"
      ]
     },
     "metadata": {},
     "output_type": "display_data"
    },
    {
     "data": {
      "image/png": "[encoded data removed]",
      "text/plain": [
       "<Figure size 640x480 with 2 Axes>"
      ]
     },
     "metadata": {},
     "output_type": "display_data"
    }
   ],
   "source": [
    "import pandas as pd\n",
    "from sklearn.metrics import accuracy_score, confusion_matrix, ConfusionMatrixDisplay\n",
    "\n",
    "# Load original labeled data and both prediction results\n",
    "actual_df = pd.read_csv(\"filtered_dataset.csv\")  # True labels\n",
    "baseline_df = pd.read_csv(\"predicted_tweet_sentiments.csv\")  # Baseline model predictions\n",
    "fintwitbert_df = pd.read_csv(\"fintwitbert_test_predictions.csv\")  # Fine-tuned model predictions\n",
    "\n",
    "# Step 1: Merge actual and baseline predictions on tweet\n",
    "baseline_merged = pd.merge(actual_df, baseline_df, on=\"tweet\")\n",
    "\n",
    "# Step 2: Map text labels from baseline to numeric\n",
    "def map_baseline_label(label):\n",
    "    label = label.upper()\n",
    "    if label == \"BULLISH\":\n",
    "        return 0\n",
    "    elif label == \"NEUTRAL\":\n",
    "        return 1\n",
    "    elif label == \"BEARISH\":\n",
    "        return 2\n",
    "    else:\n",
    "        return -1\n",
    "\n",
    "baseline_merged[\"baseline_mapped\"] = baseline_merged[\"predicted_label\"].apply(map_baseline_label)\n",
    "\n",
    "# Step 3: Merge FinTwitBERT predictions using tweet text (test set only)\n",
    "fintwitbert_merged = pd.merge(\n",
    "    fintwitbert_df[[\"tweet\", \"FinTwitBERT_prediction\"]],\n",
    "    actual_df[[\"tweet\", \"sentiment\"]],\n",
    "    on=\"tweet\"\n",
    ")\n",
    "\n",
    "# Step 4: Add correctness column to each\n",
    "baseline_merged[\"baseline_correct\"] = baseline_merged[\"sentiment\"] == baseline_merged[\"baseline_mapped\"]\n",
    "fintwitbert_merged[\"fintwitbert_correct\"] = (\n",
    "    fintwitbert_merged[\"sentiment\"] == fintwitbert_merged[\"FinTwitBERT_prediction\"]\n",
    ")\n",
    "\n",
    "# Step 5: Calculate and print accuracy\n",
    "baseline_acc = accuracy_score(baseline_merged[\"sentiment\"], baseline_merged[\"baseline_mapped\"])\n",
    "fintwitbert_acc = accuracy_score(fintwitbert_merged[\"sentiment\"], fintwitbert_merged[\"FinTwitBERT_prediction\"])\n",
    "\n",
    "print(f\"Baseline Model Accuracy: {baseline_acc * 100:.2f}%\")\n",
    "print(f\"FinTwitBERT (Fine-tuned) Accuracy: {fintwitbert_acc * 100:.2f}%\")\n",
    "\n",
    "# Step 6: Confusion matrix plots\n",
    "baseline_cm = confusion_matrix(baseline_merged[\"sentiment\"], baseline_merged[\"baseline_mapped\"])\n",
    "fintwitbert_cm = confusion_matrix(fintwitbert_merged[\"sentiment\"], fintwitbert_merged[\"FinTwitBERT_prediction\"])\n",
    "\n",
    "import matplotlib.pyplot as plt\n",
    "\n",
    "# Plot for baseline model\n",
    "disp1 = ConfusionMatrixDisplay(confusion_matrix=baseline_cm, display_labels=[\"Bullish\", \"Neutral\", \"Bearish\"])\n",
    "disp1.plot(cmap=\"Reds\")\n",
    "plt.title(\"Baseline Model Confusion Matrix\")\n",
    "plt.show()\n",
    "\n",
    "# Plot for fine-tuned FinTwitBERT\n",
    "disp2 = ConfusionMatrixDisplay(confusion_matrix=fintwitbert_cm, display_labels=[\"Bullish\", \"Neutral\", \"Bearish\"])\n",
    "disp2.plot(cmap=\"Blues\")\n",
    "plt.title(\"FinTwitBERT (Fine-tuned) Confusion Matrix\")\n",
    "plt.show()\n"
   ]
  }
 ],
 "metadata": {
  "kernelspec": {
   "display_name": "Python 3",
   "language": "python",
   "name": "python3"
  },
  "language_info": {
   "codemirror_mode": {
    "name": "ipython",
    "version": 3
   },
   "file_extension": ".py",
   "mimetype": "text/x-python",
   "name": "python",
   "nbconvert_exporter": "python",
   "pygments_lexer": "ipython3",
   "version": "3.13.2"
  }
 },
 "nbformat": 4,
 "nbformat_minor": 2
}
