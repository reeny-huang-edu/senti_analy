{
 "cells": [
  {
   "cell_type": "code",
   "execution_count": 21,
   "metadata": {},
   "outputs": [
    {
     "name": "stderr",
     "output_type": "stream",
     "text": [
      "huggingface/tokenizers: The current process just got forked, after parallelism has already been used. Disabling parallelism to avoid deadlocks...\n",
      "To disable this warning, you can either:\n",
      "\t- Avoid using `tokenizers` before the fork if possible\n",
      "\t- Explicitly set the environment variable TOKENIZERS_PARALLELISM=(true | false)\n"
     ]
    }
   ],
   "source": [
    "# 1. Environment setup and imports\n",
    "\n",
    "#Install required libraries\n",
    "!pip install --quiet transformers torch\n",
    "\n",
    "#Import PyTorch tools\n",
    "import torch        #Imports the core PyTorch library\n",
    "import torch.nn as nn   #Imports the neural network module\n",
    "from torch.utils.data import Dataset, DataLoader     #Imports the dataset and data loader modules\n",
    "                                                        #Dataset: lets you wrap your data for PyTorch training.\n",
    "                                                        #DataLoader: efficiently loads data in batches for training/testing.\n",
    "import copy\n",
    "#Load pretrained tokenizer and classification model from Hugging Face Transformers\n",
    "from transformers import AutoTokenizer, AutoModelForSequenceClassification\n",
    "from torch.optim import AdamW  # Optimizer used in fine-tuning\n",
    "\n",
    "#Import tools for data handling and evaluation\n",
    "import pandas as pd  # For reading and manipulating datasets\n",
    "import numpy as np   # For numerical operations\n",
    "from sklearn.model_selection import train_test_split  # For dataset splitting\n",
    "from sklearn.metrics import accuracy_score, f1_score  # For evaluation metrics"
   ]
  },
  {
   "cell_type": "code",
   "execution_count": 2,
   "metadata": {},
   "outputs": [],
   "source": [
    "# 2. Load and prepare the dataset\n",
    "\n",
    "# Load the dataset csv file\n",
    "df = pd.read_csv(\"filtered_dataset.csv\")\n",
    "\n",
    "# Extract tweets (to tokenize) and sentiment labels\n",
    "tweets = df[\"tweet\"].tolist() \n",
    "labels = df[\"sentiment\"].tolist()  # (1 = bullish, 0 = neutral, 2 = bearish)"
   ]
  },
  {
   "cell_type": "code",
   "execution_count": null,
   "metadata": {},
   "outputs": [
    {
     "name": "stderr",
     "output_type": "stream",
     "text": [
      "Some weights of BertForSequenceClassification were not initialized from the model checkpoint at StephanAkkerman/FinTwitBERT and are newly initialized: ['bert.pooler.dense.bias', 'bert.pooler.dense.weight', 'classifier.bias', 'classifier.weight']\n",
      "You should probably TRAIN this model on a down-stream task to be able to use it for predictions and inference.\n"
     ]
    }
   ],
   "source": [
    "# 3. Load Tokenizer and Pre-trained FinTwitBERT Model\n",
    "\n",
    "# Load the tokenizer from the FinTwitBERT model on Hugging Face (https://huggingface.co/docs/transformers/main_classes/tokenizer)\n",
    "tokenizer = AutoTokenizer.from_pretrained(\"StephanAkkerman/FinTwitBERT\")\n",
    "\n",
    "# Load the pre-trained FinTwitBERT model for sequence classification (https://huggingface.co/docs/transformers/main_classes/model)\n",
    "model = AutoModelForSequenceClassification.from_pretrained(\"StephanAkkerman/FinTwitBERT\", num_labels=3)\n",
    "             # num_labels=3 indicates the number of sentiment classes (1, 0, 2)"
   ]
  },
  {
   "cell_type": "code",
   "execution_count": 4,
   "metadata": {},
   "outputs": [],
   "source": [
    "#4 Tokenize the tweets\n",
    "\n",
    "# Tokenize all tweets for input to the model\n",
    "encodings = tokenizer(\n",
    "    tweets,\n",
    "    truncation=True, #cuts tweets longer than 64 tokens (https://huggingface.co/docs/transformers/pad_truncation)\n",
    "    padding=True,   #pads tweets shorter than 64 tokens to uniform length \n",
    "    max_length=64,  #limits tweet length to 64 tokens (https://huggingface.co/docs/transformers/main_classes/tokenizer)\n",
    "    return_tensors=\"pt\" #returns PyTorch tensors (https://huggingface.co/docs/transformers/main_classes/tokenizer)\n",
    ")\n",
    "\n",
    "# Convert sentiment labels into PyTorch tensor\n",
    "labels = torch.tensor(labels)"
   ]
  },
  {
   "cell_type": "code",
   "execution_count": 5,
   "metadata": {},
   "outputs": [
    {
     "data": {
      "image/png": "[encoded data removed]",
      "text/plain": [
       "<Figure size 640x480 with 1 Axes>"
      ]
     },
     "metadata": {},
     "output_type": "display_data"
    }
   ],
   "source": [
    "token_lengths = [len(tokenizer(tweet)[\"input_ids\"]) for tweet in tweets]\n",
    "import matplotlib.pyplot as plt\n",
    "plt.hist(token_lengths, bins=30)\n",
    "plt.title(\"Token length distribution\")\n",
    "plt.xlabel(\"Token count\")\n",
    "plt.ylabel(\"Number of tweets\")\n",
    "plt.show()\n"
   ]
  },
  {
   "cell_type": "code",
   "execution_count": 6,
   "metadata": {},
   "outputs": [],
   "source": [
    "# 5. Split the dataset into training, validation and test sets\n",
    "\n",
    "# (https://scikit-learn.org/stable/modules/generated/sklearn.model_selection.train_test_split.html)\n",
    "# First split: 70% train, 30% temporary (val+test)\n",
    "train_idx, temp_idx = train_test_split(\n",
    "    range(len(labels)), # Indexes of all data\n",
    "    test_size=0.3,      # Hold out 30% for val+test\n",
    "    stratify=labels,    # Preserve label distribution\n",
    "    random_state=42     # For reproducibility\n",
    ")\n",
    "\n",
    "# Second split: 15% val, 15% test\n",
    "val_idx, test_idx = train_test_split(\n",
    "    temp_idx,\n",
    "    test_size=0.5,              # Split temp into 50/50 each\n",
    "    stratify=labels[temp_idx],\n",
    "    random_state=42\n",
    ")\n",
    "np.savez(\"Indexes.npy\", train=train_idx, val=val_idx, test=test_idx)"
   ]
  },
  {
   "cell_type": "code",
   "execution_count": 7,
   "metadata": {},
   "outputs": [],
   "source": [
    "# split_data = np.load(\"Indexes.npy\")\n",
    "# train_idx = split_data[\"train\"]\n",
    "# val_idx = split_data[\"val\"]\n",
    "# test_idx = split_data[\"test\"]"
   ]
  },
  {
   "cell_type": "code",
   "execution_count": 8,
   "metadata": {},
   "outputs": [],
   "source": [
    "# 6. Create a custom PyTorch Dataset to handle tokenized tweets and labels\n",
    "\n",
    "class TweetDataset(Dataset): \n",
    "    # Constructor\n",
    "    def __init__(self, encodings, labels, indices):\n",
    "        # Select only the subset of data defined by the given indices (train/val/test)\n",
    "        self.encodings = {k: v[indices] for k, v in encodings.items()}\n",
    "        self.labels = labels[indices]\n",
    "    def __len__(self):\n",
    "        # Return the number of samples in the dataset\n",
    "        return len(self.labels)\n",
    "    def __getitem__(self, idx):\n",
    "        # Return one sample as a dictionary with input IDs, attention mask, and label\n",
    "        return {\n",
    "            'input_ids': self.encodings['input_ids'][idx],\n",
    "            'attention_mask': self.encodings['attention_mask'][idx],\n",
    "            'labels': self.labels[idx]\n",
    "        }\n",
    "# Create dataset objects for training, validation, and testing\n",
    "train_dataset = TweetDataset(encodings, labels, train_idx)\n",
    "val_dataset = TweetDataset(encodings, labels, val_idx)\n",
    "test_dataset = TweetDataset(encodings, labels, test_idx)"
   ]
  },
  {
   "cell_type": "code",
   "execution_count": 9,
   "metadata": {},
   "outputs": [],
   "source": [
    "# 7. Prepares the tokenized datasets for model training and evaluation\n",
    "\n",
    "# Wrap datasets in DataLoader for batching (https://pytorch.org/docs/stable/data.html#torch.utils.data.DataLoader)\n",
    "    # - Batches of 16, 32 and 32\n",
    "    # - Shuffles the data to help generalization during training\n",
    "train_loader = DataLoader(train_dataset, batch_size=16, shuffle=True)\n",
    "val_loader = DataLoader(val_dataset, batch_size=32)\n",
    "test_loader = DataLoader(test_dataset, batch_size=32)"
   ]
  },
  {
   "cell_type": "code",
   "execution_count": null,
   "metadata": {},
   "outputs": [
    {
     "data": {
      "text/plain": [
       "BertForSequenceClassification(\n",
       "  (bert): BertModel(\n",
       "    (embeddings): BertEmbeddings(\n",
       "      (word_embeddings): Embedding(30875, 768, padding_idx=0)\n",
       "      (position_embeddings): Embedding(512, 768)\n",
       "      (token_type_embeddings): Embedding(2, 768)\n",
       "      (LayerNorm): LayerNorm((768,), eps=1e-12, elementwise_affine=True)\n",
       "      (dropout): Dropout(p=0.1, inplace=False)\n",
       "    )\n",
       "    (encoder): BertEncoder(\n",
       "      (layer): ModuleList(\n",
       "        (0-11): 12 x BertLayer(\n",
       "          (attention): BertAttention(\n",
       "            (self): BertSdpaSelfAttention(\n",
       "              (query): Linear(in_features=768, out_features=768, bias=True)\n",
       "              (key): Linear(in_features=768, out_features=768, bias=True)\n",
       "              (value): Linear(in_features=768, out_features=768, bias=True)\n",
       "              (dropout): Dropout(p=0.1, inplace=False)\n",
       "            )\n",
       "            (output): BertSelfOutput(\n",
       "              (dense): Linear(in_features=768, out_features=768, bias=True)\n",
       "              (LayerNorm): LayerNorm((768,), eps=1e-12, elementwise_affine=True)\n",
       "              (dropout): Dropout(p=0.1, inplace=False)\n",
       "            )\n",
       "          )\n",
       "          (intermediate): BertIntermediate(\n",
       "            (dense): Linear(in_features=768, out_features=3072, bias=True)\n",
       "            (intermediate_act_fn): GELUActivation()\n",
       "          )\n",
       "          (output): BertOutput(\n",
       "            (dense): Linear(in_features=3072, out_features=768, bias=True)\n",
       "            (LayerNorm): LayerNorm((768,), eps=1e-12, elementwise_affine=True)\n",
       "            (dropout): Dropout(p=0.1, inplace=False)\n",
       "          )\n",
       "        )\n",
       "      )\n",
       "    )\n",
       "    (pooler): BertPooler(\n",
       "      (dense): Linear(in_features=768, out_features=768, bias=True)\n",
       "      (activation): Tanh()\n",
       "    )\n",
       "  )\n",
       "  (dropout): Dropout(p=0.1, inplace=False)\n",
       "  (classifier): Linear(in_features=768, out_features=3, bias=True)\n",
       ")"
      ]
     },
     "execution_count": 19,
     "metadata": {},
     "output_type": "execute_result"
    }
   ],
   "source": [
    "# 8. Set optimizer and move model to GPU\n",
    "\n",
    "# Set optimizer (how the model learns during training)\n",
    "#optimizer = AdamW(model.parameters(), lr=1e-5)\n",
    "\n",
    "# Move model to GPU if available, to have both model and data on the same device\n",
    "device = torch.device(\"cuda\" if torch.cuda.is_available() else \"cpu\")\n",
    "model.to(device)"
   ]
  },
  {
   "cell_type": "code",
   "execution_count": 37,
   "metadata": {},
   "outputs": [],
   "source": [
    "# 9. Train the model\n",
    "\n",
    "#(https://pytorch.org/tutorials/beginner/introyt/trainingyt.html)\n",
    "# Function to train the model using the training and validation datasets\n",
    "    # model: the neural network (FinTwitBERT model)\n",
    "    # train_loader: batches of training data\n",
    "    # val_loader: batches of validation data\n",
    "    # optimizer: updates model weights based on loss\n",
    "    # device: runs the model on CPU or GPU\n",
    "    #epochs: number of full passes through the training set (default = 3)\n",
    "def train_model(model, train_loader, val_loader, optimizer, device, epochs=40):\n",
    "    best_model = copy.deepcopy(model)  # Copy initial model\n",
    "    best_loss = float('inf')            # Initialize best loss as infinity\n",
    "    val_loss = []                       # List to store validation loss\n",
    "    val_running_loss = 0.0\n",
    "\n",
    "    no_improve_counter = 0\n",
    "    patience = 7\n",
    "    scale=1\n",
    "    for epoch in range(epochs):     # Loop over the number of epochs\n",
    "        model.train()       # Set the model to training mode\n",
    "        total_loss = 0      # Initialize total loss for the epoch\n",
    "        for batch in train_loader:  # Loop over each batch of training data\n",
    "            input_ids = batch['input_ids'].to(device)       # Move input IDs to the device (GPU/CPU)\n",
    "            attention_mask = batch['attention_mask'].to(device) \n",
    "            labels = batch['labels'].to(device)\n",
    "\n",
    "            outputs = model(input_ids, attention_mask=attention_mask, labels=labels)    # Forward pass\n",
    "            loss = outputs.loss   # Get the loss from the model output\n",
    "            total_loss += loss.item()      # Adds the loss for this batch to the total\n",
    "\n",
    "            loss.backward()   # Backward pass to compute gradients\n",
    "            optimizer.step()    # Update model weights based on gradients\n",
    "            optimizer.zero_grad()   # Reset gradients for the next batch\n",
    "\n",
    "        avg_train_loss = total_loss / len(train_loader) # Average loss for the epoch\n",
    "        print(f\"Epoch {epoch+1}/{epochs} - Train Loss: {avg_train_loss:.4f}\")\n",
    "\n",
    "        # Validation after each epoch\n",
    "        model.eval()    # Set the model to evaluation mode\n",
    "        all_preds, all_labels = [], []  # Initialize lists to store predictions and labels\n",
    "        with torch.no_grad():   # Disable gradient calculation for validation\n",
    "            for batch in val_loader:    # Loop over each batch of validation data\n",
    "                input_ids = batch['input_ids'].to(device)\n",
    "                attention_mask = batch['attention_mask'].to(device)\n",
    "                labels = batch['labels'].to(device)\n",
    "\n",
    "                outputs = model(input_ids, attention_mask=attention_mask, labels=labels)   # Forward pass\n",
    "                preds = torch.argmax(outputs.logits, dim=1)   # Get predicted labels\n",
    "\n",
    "                all_preds.extend(preds.cpu().numpy())   # Store predictions in the list \n",
    "                all_labels.extend(labels.cpu().numpy())   # Store true labels in the list\n",
    "\n",
    "                # Compute validation loss\n",
    "                loss2 = outputs.loss\n",
    "                val_running_loss += loss2.item()\n",
    "\n",
    "        # Store average loss for this epoch\n",
    "        val_loss.append(val_running_loss / len(val_loader))\n",
    "        # print(f\"length val{len(val_loader)}\")\n",
    "\n",
    "        print(f\"Epoch [{epoch+1}/{epochs}], Val Loss: {val_loss[-1]:.4f}\")\n",
    "\n",
    "        # --- Save the model if validation loss improved ---\n",
    "        if val_loss[-1] < best_loss:\n",
    "            best_loss = val_loss[-1]\n",
    "            best_model = copy.deepcopy(model)  # Save the model\n",
    "            no_improve_counter = 0\n",
    "            print(\"✅ Model improved. Saving current model.\")\n",
    "        else:\n",
    "            no_improve_counter += 1\n",
    "            print(\"⚠️ Model did not improve. Keeping previous best model.\")\n",
    "                \n",
    "         # Early Stopping Check\n",
    "        if no_improve_counter >= patience:\n",
    "            print(\"🛑 Early stopping triggered!\")\n",
    "            break\n",
    "        acc = accuracy_score(all_labels, all_preds) # Calculate accuracy\n",
    "        f1 = f1_score(all_labels, all_preds, average='weighted')    # Calculate F1 score\n",
    "        print(f\"Validation Accuracy: {acc:.4f}, F1 Score: {f1:.4f}\")    # Print validation metrics\n",
    "\n"
   ]
  },
  {
   "cell_type": "code",
   "execution_count": 38,
   "metadata": {},
   "outputs": [
    {
     "name": "stdout",
     "output_type": "stream",
     "text": [
      "Epoch 1/40 - Train Loss: 0.0040\n",
      "Epoch [1/40], Val Loss: 0.3013\n",
      "✅ Model improved. Saving current model.\n",
      "Validation Accuracy: 0.9506, F1 Score: 0.9489\n",
      "Epoch 2/40 - Train Loss: 0.0021\n",
      "Epoch [2/40], Val Loss: 0.6284\n",
      "⚠️ Model did not improve. Keeping previous best model.\n",
      "Validation Accuracy: 0.9502, F1 Score: 0.9490\n",
      "Epoch 3/40 - Train Loss: 0.0025\n",
      "Epoch [3/40], Val Loss: 0.9555\n",
      "⚠️ Model did not improve. Keeping previous best model.\n",
      "Validation Accuracy: 0.9508, F1 Score: 0.9502\n",
      "Epoch 4/40 - Train Loss: 0.0032\n",
      "Epoch [4/40], Val Loss: 1.2776\n",
      "⚠️ Model did not improve. Keeping previous best model.\n",
      "Validation Accuracy: 0.9485, F1 Score: 0.9470\n",
      "Epoch 5/40 - Train Loss: 0.0019\n",
      "Epoch [5/40], Val Loss: 1.5915\n",
      "⚠️ Model did not improve. Keeping previous best model.\n",
      "Validation Accuracy: 0.9550, F1 Score: 0.9540\n",
      "Epoch 6/40 - Train Loss: 0.0027\n",
      "Epoch [6/40], Val Loss: 1.8742\n",
      "⚠️ Model did not improve. Keeping previous best model.\n",
      "Validation Accuracy: 0.9525, F1 Score: 0.9516\n",
      "Epoch 7/40 - Train Loss: 0.0028\n",
      "Epoch [7/40], Val Loss: 2.1887\n",
      "⚠️ Model did not improve. Keeping previous best model.\n",
      "Validation Accuracy: 0.9513, F1 Score: 0.9498\n",
      "Epoch 8/40 - Train Loss: 0.0020\n",
      "Epoch [8/40], Val Loss: 2.4928\n",
      "⚠️ Model did not improve. Keeping previous best model.\n",
      "🛑 Early stopping triggered!\n"
     ]
    }
   ],
   "source": [
    "#10. Run the training\n",
    "# Define optimizer\n",
    "optimizer = torch.optim.AdamW(model.parameters(), lr=1e-5, weight_decay=0.01)\n",
    "train_model(model, train_loader, val_loader, optimizer, device)\n",
    "\n",
    "#!! increase epochs to 5 or 10 for better results, and Save the best model  \n",
    "# Save the model\n"
   ]
  },
  {
   "cell_type": "code",
   "execution_count": 35,
   "metadata": {},
   "outputs": [
    {
     "name": "stdout",
     "output_type": "stream",
     "text": [
      "Test Accuracy: 0.9542, F1 Score: 0.9532\n"
     ]
    }
   ],
   "source": [
    "# 11. Evaluate the trained model on the test set\n",
    "\n",
    "#comparing predictions (all_preds) to true labels (all_labels) from the test dataset\n",
    "def evaluate(model, test_loader, device):\n",
    "    model.eval()    # Set the model to evaluation mode\n",
    "    all_preds, all_labels = [], []  # Initialize lists to store predictions and labels\n",
    "    with torch.no_grad():   \n",
    "        for batch in test_loader:   # Loop over each batch of test data\n",
    "            input_ids = batch['input_ids'].to(device)\n",
    "            attention_mask = batch['attention_mask'].to(device)\n",
    "            labels = batch['labels'].to(device)\n",
    "\n",
    "            outputs = model(input_ids, attention_mask=attention_mask)   # Forward pass\n",
    "            preds = torch.argmax(outputs.logits, dim=1)  # Get predicted labels\n",
    "\n",
    "            all_preds.extend(preds.cpu().numpy())   # Store predictions in the list\n",
    "            all_labels.extend(labels.cpu().numpy())   # Store true labels in the list\n",
    "\n",
    "    # Compute and print evaluation metrics\n",
    "    acc = accuracy_score(all_labels, all_preds)     # Calculate accuracy\n",
    "    f1 = f1_score(all_labels, all_preds, average='weighted')        # Calculate F1 score\n",
    "    print(f\"Test Accuracy: {acc:.4f}, F1 Score: {f1:.4f}\")  \n",
    "\n",
    "# Evaluate the model on the test set\n",
    "evaluate(model, test_loader, device)\n",
    "\n"
   ]
  },
  {
   "cell_type": "code",
   "execution_count": 31,
   "metadata": {},
   "outputs": [
    {
     "name": "stdout",
     "output_type": "stream",
     "text": [
      "Predictions saved to 'fintwitbert_test_predictions.csv'\n"
     ]
    }
   ],
   "source": [
    "# Section 12: Run inference (prediction) on the test set (unseen data) and save predictions\n",
    "\n",
    "# Load the filtered dataset containing tweets and sentiment labels\n",
    "actual_df = pd.read_csv(\"filtered_dataset.csv\")\n",
    "\n",
    "#from torch.utils.data import DataLoader\n",
    "\n",
    "# Set model to evaluation mode\n",
    "model.eval()\n",
    "\n",
    "# Inference: Store predictions on test data\n",
    "all_preds = []\n",
    "\n",
    "with torch.no_grad(): # Disable gradient computation for inference\n",
    "    for batch in DataLoader(test_dataset, batch_size=32):   # Loop over each batch of test data\n",
    "        input_ids = batch['input_ids'].to(device)   \n",
    "        attention_mask = batch['attention_mask'].to(device)\n",
    "\n",
    "        outputs = model(input_ids=input_ids, attention_mask=attention_mask)     # Forward pass\n",
    "        logits = outputs.logits   # Get model outputs (logits)\n",
    "        preds = torch.argmax(logits, dim=1)         # Get predicted labels\n",
    "        all_preds.extend(preds.cpu().numpy())       # Store predictions in the list\n",
    "\n",
    "# Create a smaller DataFrame for just the test set (same indices used during split)\n",
    "test_df = actual_df.iloc[test_idx].copy()\n",
    "\n",
    "# Add predictions as a new column\n",
    "test_df[\"FinTwitBERT_prediction\"] = all_preds\n",
    "\n",
    "# Save to CSV for external evaluation or comparison\n",
    "test_df.to_csv(\"fintwitbert_test_predictions.csv\", index=False)\n",
    "\n",
    "print(\"Predictions saved to 'fintwitbert_test_predictions.csv'\")\n",
    "\n"
   ]
  },
  {
   "cell_type": "code",
   "execution_count": 32,
   "metadata": {},
   "outputs": [
    {
     "name": "stdout",
     "output_type": "stream",
     "text": [
      "FinTwitBERT Performance:\n",
      "              precision    recall  f1-score   support\n",
      "\n",
      "           0       0.87      0.64      0.74       459\n",
      "           1       0.92      0.96      0.94      1618\n",
      "           2       0.97      0.99      0.98      2708\n",
      "\n",
      "    accuracy                           0.95      4785\n",
      "   macro avg       0.92      0.86      0.88      4785\n",
      "weighted avg       0.94      0.95      0.94      4785\n",
      "\n",
      "Baseline Model Performance:\n",
      "              precision    recall  f1-score   support\n",
      "\n",
      "           0       0.86      0.78      0.81       459\n",
      "           1       0.94      0.96      0.95      1618\n",
      "           2       0.98      0.98      0.98      2708\n",
      "\n",
      "    accuracy                           0.96      4785\n",
      "   macro avg       0.93      0.91      0.92      4785\n",
      "weighted avg       0.96      0.96      0.96      4785\n",
      "\n"
     ]
    }
   ],
   "source": [
    "# 13.Evaluate and Compare True Labels, Baseline, and Fine-Tuned FinTwitBERT\n",
    "#  \n",
    "import pandas as pd\n",
    "from sklearn.metrics import classification_report\n",
    "\n",
    "# Load the test set predictions from the fine-tuned FinTwitBERT model\n",
    "fintwitbert_df = pd.read_csv(\"fintwitbert_test_predictions.csv\")  # # Contains 'tweet', 'sentiment', 'FinTwitBERT_prediction'\n",
    "# Load predictions from the baseline FinTwitBERT-sentiment (pretrained) model\n",
    "baseline_df = pd.read_csv(\"predicted_tweet_sentiments.csv\")  # Contains 'tweet', 'predicted_label'\n",
    "\n",
    "# Only keep tweets in the test set for both models, so we compare both on the same tweets (test set) by merging on tweet text.\n",
    "baseline_df = baseline_df[baseline_df[\"tweet\"].isin(fintwitbert_df[\"tweet\"])]\n",
    "\n",
    "# Merge on tweet\n",
    "merged_df = pd.merge(fintwitbert_df, baseline_df, on=\"tweet\")   # contains sentiment (true) and FinTwitBERT_prediction\n",
    "\n",
    "# Map baseline model's text predictions to numeric labels\n",
    "def map_pred(label):\n",
    "    label = label.lower()   # Convert to lowercase for consistency\n",
    "    if label == \"bullish\":    \n",
    "        return 1\n",
    "    elif label == \"neutral\":\n",
    "        return 0\n",
    "    elif label == \"bearish\":\n",
    "        return 2\n",
    "    return -1  # fallback\n",
    "\n",
    "# Map baseline model's predictions to numeric labels\n",
    "merged_df[\"baseline_prediction\"] = merged_df[\"predicted_label\"].apply(map_pred)\n",
    "\n",
    "# Compare and Evaluate both models on the same test samples\n",
    "print(\"FinTwitBERT Performance:\")\n",
    "print(classification_report(merged_df[\"sentiment\"], merged_df[\"FinTwitBERT_prediction\"]))\n",
    "\n",
    "print(\"Baseline Model Performance:\")\n",
    "print(classification_report(merged_df[\"sentiment\"], merged_df[\"baseline_prediction\"]))\n",
    "\n",
    "#??? result accuracy for the baseline model prediction didn't really make sense to me, please check!!"
   ]
  },
  {
   "cell_type": "code",
   "execution_count": 36,
   "metadata": {},
   "outputs": [
    {
     "name": "stdout",
     "output_type": "stream",
     "text": [
      "Fine-tuned FinTwitBERT Accuracy: 94.52%\n",
      "Baseline FinTwitBERT-Sentiment Accuracy: 95.73%\n"
     ]
    },
    {
     "data": {
      "image/png": "[encoded data removed]",
      "text/plain": [
       "<Figure size 640x480 with 2 Axes>"
      ]
     },
     "metadata": {},
     "output_type": "display_data"
    },
    {
     "data": {
      "image/png": "[encoded data removed]",
      "text/plain": [
       "<Figure size 640x480 with 2 Axes>"
      ]
     },
     "metadata": {},
     "output_type": "display_data"
    }
   ],
   "source": [
    "import pandas as pd\n",
    "from sklearn.metrics import accuracy_score, confusion_matrix, ConfusionMatrixDisplay\n",
    "import matplotlib.pyplot as plt\n",
    "\n",
    "# Load datasets\n",
    "actual_df = pd.read_csv(\"filtered_dataset.csv\")  # Contains true sentiment labels\n",
    "baseline_df = pd.read_csv(\"predicted_tweet_sentiments.csv\")  # Baseline model predictions (FinTwitBERT-sentiment)\n",
    "fintwitbert_df = pd.read_csv(\"fintwitbert_test_predictions.csv\")  # Fine-tuned model predictions\n",
    "\n",
    "# We only want to keep tweets in the test set for both models, so we compare both on the same tweets (test set) by merging on tweet text.\n",
    "\n",
    "# Step 1: Merge test predictions from fine-tuned model with true labels\n",
    "fintwitbert_merged = pd.merge(\n",
    "    fintwitbert_df[[\"tweet\", \"FinTwitBERT_prediction\"]],\n",
    "    actual_df[[\"tweet\", \"sentiment\"]],\n",
    "    on=\"tweet\"\n",
    ")\n",
    "\n",
    "# Step 2: Merge baseline model predictions with true labels\n",
    "baseline_merged = pd.merge(\n",
    "    baseline_df[[\"tweet\", \"predicted_label\"]],\n",
    "    actual_df[[\"tweet\", \"sentiment\"]],\n",
    "    on=\"tweet\"\n",
    ")\n",
    "\n",
    "# Step 3: Map text labels from baseline predictions to numeric\n",
    "def map_label(label):\n",
    "    label = label.upper()\n",
    "    return {\"BULLISH\": 1, \"NEUTRAL\": 0, \"BEARISH\": 2}.get(label, -1)\n",
    "\n",
    "baseline_merged[\"baseline_prediction\"] = baseline_merged[\"predicted_label\"].apply(map_label)\n",
    "\n",
    "# Step 4: Accuracy comparison\n",
    "fine_tuned_acc = accuracy_score(fintwitbert_merged[\"sentiment\"], fintwitbert_merged[\"FinTwitBERT_prediction\"])  # Fine-tuned model accuracy\n",
    "baseline_acc = accuracy_score(baseline_merged[\"sentiment\"], baseline_merged[\"baseline_prediction\"]) # Baseline model accuracy\n",
    "\n",
    "print(f\"Fine-tuned FinTwitBERT Accuracy: {fine_tuned_acc * 100:.2f}%\")      \n",
    "print(f\"Baseline FinTwitBERT-Sentiment Accuracy: {baseline_acc * 100:.2f}%\")\n",
    "\n",
    "# Step 5: Plot confusion matrices\n",
    "fine_cm = confusion_matrix(fintwitbert_merged[\"sentiment\"], fintwitbert_merged[\"FinTwitBERT_prediction\"])   # Fine-tuned model confusion matrix\n",
    "baseline_cm = confusion_matrix(baseline_merged[\"sentiment\"], baseline_merged[\"baseline_prediction\"])   # Baseline model confusion matrix\n",
    "\n",
    "# Plot for Fine-tuned model\n",
    "disp1 = ConfusionMatrixDisplay(confusion_matrix=fine_cm, display_labels=[\"Bullish\", \"Neutral\", \"Bearish\"])  # Fine-tuned model confusion matrix\n",
    "disp1.plot(cmap=\"Blues\")\n",
    "plt.title(\"FinTwitBERT (Fine-tuned) Confusion Matrix\")\n",
    "plt.show()\n",
    "\n",
    "# Plot for Baseline model\n",
    "disp2 = ConfusionMatrixDisplay(confusion_matrix=baseline_cm, display_labels=[\"Bullish\", \"Neutral\", \"Bearish\"])\n",
    "disp2.plot(cmap=\"Reds\")\n",
    "plt.title(\"FinTwitBERT-Sentiment (Baseline) Confusion Matrix\")\n",
    "plt.show()\n",
    "\n",
    "\n",
    "#??? result accuracy for the baseline model prediction didn't really make sense to me, please check!!\n",
    "# other comparison and evaluation metrics to make?"
   ]
  }
 ],
 "metadata": {
  "kernelspec": {
   "display_name": "Python 3",
   "language": "python",
   "name": "python3"
  },
  "language_info": {
   "codemirror_mode": {
    "name": "ipython",
    "version": 3
   },
   "file_extension": ".py",
   "mimetype": "text/x-python",
   "name": "python",
   "nbconvert_exporter": "python",
   "pygments_lexer": "ipython3",
   "version": "3.13.2"
  }
 },
 "nbformat": 4,
 "nbformat_minor": 2
}
